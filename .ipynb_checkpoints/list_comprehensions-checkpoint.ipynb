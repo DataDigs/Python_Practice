{
 "cells": [
  {
   "cell_type": "markdown",
   "metadata": {},
   "source": [
    "# List Comprehensions"
   ]
  },
  {
   "cell_type": "markdown",
   "metadata": {},
   "source": [
    "## What is a list comprehension?\n",
    "\n",
    "Recall that an iterable is an object that Python can inspect one element at a time, such as a list, set, or string. A list comprehension allows you to turn an iterable into a list with a single line of code. Often, a for loop or lambda function whose sole purpose is to create a list can be rewritten as a list comprehension. This can increase readability, and with practice can be faster to write. \n",
    "\n",
    "The general syntax of a list comprehension is is `[item for item in iterable]`. From here, you can manipulate the item as it is added to the list, add conditions, or even nest list comprehensions. \n",
    "\n",
    "If you ever get confused when writing a list comprehension, it can be helpful to write out the full for loop that would create the list, then try to condense it down to a single line. "
   ]
  },
  {
   "cell_type": "markdown",
   "metadata": {},
   "source": [
    "### Example 1: Basic list comprehensions\n",
    "\n",
    "Look at this for loop. What do you think the output will be?"
   ]
  },
  {
   "cell_type": "code",
   "execution_count": 36,
   "metadata": {},
   "outputs": [
    {
     "data": {
      "text/plain": [
       "['D', 'a', 't', 'a', 'D', 'i', 'g', 's']"
      ]
     },
     "execution_count": 36,
     "metadata": {},
     "output_type": "execute_result"
    }
   ],
   "source": [
    "a = []\n",
    "s = \"DataDigs\"\n",
    "for c in s:\n",
    "    a.append(c)\n",
    "a"
   ]
  },
  {
   "cell_type": "markdown",
   "metadata": {},
   "source": [
    "This for loop's sole purpose is to convert the iterable (in this case, the string `\"DataDigs\"`) into a list. This makes it the perfect candidate for a list comprehension. "
   ]
  },
  {
   "cell_type": "code",
   "execution_count": 37,
   "metadata": {},
   "outputs": [
    {
     "data": {
      "text/plain": [
       "['D', 'a', 't', 'a', 'D', 'i', 'g', 's']"
      ]
     },
     "execution_count": 37,
     "metadata": {},
     "output_type": "execute_result"
    }
   ],
   "source": [
    "a = [c for c in \"DataDigs\"]\n",
    "a"
   ]
  },
  {
   "cell_type": "markdown",
   "metadata": {},
   "source": [
    "Try converting this for loop into a list comprehension."
   ]
  },
  {
   "cell_type": "code",
   "execution_count": 38,
   "metadata": {},
   "outputs": [
    {
     "data": {
      "text/plain": [
       "['hi', 8, 2]"
      ]
     },
     "execution_count": 38,
     "metadata": {},
     "output_type": "execute_result"
    }
   ],
   "source": [
    "a = []\n",
    "my_set = {\"hi\", 2, 8}\n",
    "for item in my_set:\n",
    "    a.append(item)\n",
    "a"
   ]
  },
  {
   "cell_type": "code",
   "execution_count": 39,
   "metadata": {},
   "outputs": [],
   "source": [
    "# Type your answer here"
   ]
  },
  {
   "cell_type": "markdown",
   "metadata": {},
   "source": [
    "### Example 2: Manipulating the input\n",
    "\n",
    "Items can be manipulated before being added to the list. For example, suppose you want to square each item in the list below. "
   ]
  },
  {
   "cell_type": "code",
   "execution_count": 40,
   "metadata": {},
   "outputs": [
    {
     "data": {
      "text/plain": [
       "[1, 4, 9, 16, 25]"
      ]
     },
     "execution_count": 40,
     "metadata": {},
     "output_type": "execute_result"
    }
   ],
   "source": [
    "a = [1,2,3,4,5]\n",
    "a_squared = [i**2 for i in a]\n",
    "a_squared"
   ]
  },
  {
   "cell_type": "markdown",
   "metadata": {},
   "source": [
    "Write a list comprehension that will take the square root of each number in the list a."
   ]
  },
  {
   "cell_type": "code",
   "execution_count": 41,
   "metadata": {},
   "outputs": [],
   "source": [
    "# Type your answer here\n",
    "\n",
    "# Expected output: [1.0, 1.4142135623730951, 1.7320508075688772, 2.0, 2.23606797749979]"
   ]
  },
  {
   "cell_type": "markdown",
   "metadata": {},
   "source": [
    "Write a list comprehension that adds the letters \"at\" for each item in the list letters."
   ]
  },
  {
   "cell_type": "code",
   "execution_count": 42,
   "metadata": {},
   "outputs": [],
   "source": [
    "letters = [\"h\", \"c\", \"f\", \"s\", \"diplom\"]\n",
    "# Type your answer here\n",
    "\n",
    "# Expected output: ['hat', 'cat', 'fat', 'sat', 'diplomat']"
   ]
  },
  {
   "cell_type": "markdown",
   "metadata": {},
   "source": [
    "### Example 3: Adding conditionals\n",
    "\n",
    "The syntax for conditionals is as follows: `[item for item in iterable if item {conditon}]`\n",
    "\n",
    "So if I only want the even numbers from a list, I can use a conditional."
   ]
  },
  {
   "cell_type": "code",
   "execution_count": 43,
   "metadata": {},
   "outputs": [
    {
     "data": {
      "text/plain": [
       "[2, 4, 6]"
      ]
     },
     "execution_count": 43,
     "metadata": {},
     "output_type": "execute_result"
    }
   ],
   "source": [
    "my_list = [1,2,3,4,5,6]\n",
    "a = [i for i in my_list if i%2 == 0]\n",
    "a"
   ]
  },
  {
   "cell_type": "markdown",
   "metadata": {},
   "source": [
    "To add an `else` statement, the syntax is `[item if item {conditon} else {do something} for item in iterable]`. So, if I want the the nubmers replaced with \"even\" or \"odd\": "
   ]
  },
  {
   "cell_type": "code",
   "execution_count": 44,
   "metadata": {},
   "outputs": [
    {
     "data": {
      "text/plain": [
       "['odd', 'even', 'odd', 'even', 'odd', 'even']"
      ]
     },
     "execution_count": 44,
     "metadata": {},
     "output_type": "execute_result"
    }
   ],
   "source": [
    "a = [\"even\" if i%2 == 0 else \"odd\" for i in my_list]\n",
    "a"
   ]
  },
  {
   "cell_type": "markdown",
   "metadata": {},
   "source": [
    "Write a list comprehension that returns the squared value of only the even numbers in `my_list`. "
   ]
  },
  {
   "cell_type": "code",
   "execution_count": 45,
   "metadata": {},
   "outputs": [],
   "source": [
    "# Type your answer here\n",
    "\n",
    "# Expected output: [4, 16, 36]"
   ]
  },
  {
   "cell_type": "markdown",
   "metadata": {},
   "source": [
    "Write a list comprehension that returns the squared value even numbers and 0 for odd numbers in `my_list`. "
   ]
  },
  {
   "cell_type": "code",
   "execution_count": 46,
   "metadata": {},
   "outputs": [],
   "source": [
    "# Type your answer here\n",
    "\n",
    "# Expected output: [0, 4, 0, 16, 0, 36]"
   ]
  },
  {
   "cell_type": "markdown",
   "metadata": {},
   "source": [
    "Write a list comprehension that returns the number if it is divisible by 5 an 3. "
   ]
  },
  {
   "cell_type": "code",
   "execution_count": 47,
   "metadata": {},
   "outputs": [],
   "source": [
    "my_list = [3, 5, 15, 30, 33]\n",
    "# Type your answer here\n",
    "\n",
    "# Expected output: [15,30]"
   ]
  },
  {
   "cell_type": "markdown",
   "metadata": {},
   "source": [
    "Write a list comprehension that returns a lowercased letter if it is not a vowel."
   ]
  },
  {
   "cell_type": "code",
   "execution_count": 48,
   "metadata": {},
   "outputs": [],
   "source": [
    "s = \"DataDigs\"\n",
    "# Type your answer here\n",
    "\n",
    "# Expected output: ['d', 't', 'd', 'g', 's']"
   ]
  },
  {
   "cell_type": "markdown",
   "metadata": {},
   "source": [
    "Write a list comprehension that returns only the lowercased consonants of s."
   ]
  },
  {
   "cell_type": "code",
   "execution_count": 49,
   "metadata": {},
   "outputs": [],
   "source": [
    "# Type your answer here\n",
    "\n",
    "# Expected output: ['t', g', 's']"
   ]
  },
  {
   "cell_type": "markdown",
   "metadata": {},
   "source": [
    "### Example 4: Nested for loops and nested list comprehensions\n",
    "\n",
    "Consider the follwoing for loop:"
   ]
  },
  {
   "cell_type": "code",
   "execution_count": 50,
   "metadata": {},
   "outputs": [
    {
     "data": {
      "text/plain": [
       "['a', 'aa', 'aaa', 'b', 'bb', 'bbb', 'c', 'cc', 'ccc']"
      ]
     },
     "execution_count": 50,
     "metadata": {},
     "output_type": "execute_result"
    }
   ],
   "source": [
    "a = []\n",
    "letters = [\"a\", \"b\", \"c\"]\n",
    "numbers = [1, 2, 3]\n",
    "\n",
    "for l in letters:\n",
    "    for n in numbers:\n",
    "        a.append(l*n)\n",
    "a"
   ]
  },
  {
   "cell_type": "markdown",
   "metadata": {},
   "source": [
    "You can write a nested for loop in a list comprehension like so:"
   ]
  },
  {
   "cell_type": "code",
   "execution_count": 51,
   "metadata": {},
   "outputs": [
    {
     "data": {
      "text/plain": [
       "['a', 'aa', 'aaa', 'b', 'bb', 'bbb', 'c', 'cc', 'ccc']"
      ]
     },
     "execution_count": 51,
     "metadata": {},
     "output_type": "execute_result"
    }
   ],
   "source": [
    "[l*n for l in letters for n in numbers]"
   ]
  },
  {
   "cell_type": "markdown",
   "metadata": {},
   "source": [
    "You can also create list comprehensions inside list comprehensions. Consider the following for loop:"
   ]
  },
  {
   "cell_type": "code",
   "execution_count": 52,
   "metadata": {},
   "outputs": [
    {
     "data": {
      "text/plain": [
       "[['a', 'aa', 'aaa'], ['b', 'bb', 'bbb'], ['c', 'cc', 'ccc']]"
      ]
     },
     "execution_count": 52,
     "metadata": {},
     "output_type": "execute_result"
    }
   ],
   "source": [
    "a = []\n",
    "letters = [\"a\", \"b\", \"c\"]\n",
    "numbers = [1, 2, 3]\n",
    "\n",
    "for l in letters:\n",
    "    new_list = []\n",
    "    for n in numbers:\n",
    "        new_list.append(l*n)\n",
    "    a.append(new_list)\n",
    "a"
   ]
  },
  {
   "cell_type": "markdown",
   "metadata": {},
   "source": [
    "As a list comprehension:"
   ]
  },
  {
   "cell_type": "code",
   "execution_count": 53,
   "metadata": {},
   "outputs": [
    {
     "data": {
      "text/plain": [
       "[['a', 'aa', 'aaa'], ['b', 'bb', 'bbb'], ['c', 'cc', 'ccc']]"
      ]
     },
     "execution_count": 53,
     "metadata": {},
     "output_type": "execute_result"
    }
   ],
   "source": [
    "[[n*l for n in numbers] for l in letters]"
   ]
  },
  {
   "cell_type": "markdown",
   "metadata": {},
   "source": [
    "Write a list comprehension that returns numbers to the powers as a flat list (no lists inside lists)."
   ]
  },
  {
   "cell_type": "code",
   "execution_count": 54,
   "metadata": {},
   "outputs": [],
   "source": [
    "numbers = [1,2,3]\n",
    "powers = [2,3,4]\n",
    "# Type your answer here\n",
    "\n",
    "# Expected output: [1, 1, 1, 4, 8, 16, 9, 27, 81]"
   ]
  },
  {
   "cell_type": "markdown",
   "metadata": {},
   "source": [
    "Now do the same, but with each number inside its own sublist."
   ]
  },
  {
   "cell_type": "code",
   "execution_count": 55,
   "metadata": {},
   "outputs": [],
   "source": [
    "# Type your answer here\n",
    "\n",
    "# Expected output: [[1, 1, 1], [4, 8, 16], [9, 27, 81]]"
   ]
  },
  {
   "cell_type": "markdown",
   "metadata": {},
   "source": [
    "One more time, but this time have each power inside its own nested list."
   ]
  },
  {
   "cell_type": "code",
   "execution_count": 56,
   "metadata": {},
   "outputs": [],
   "source": [
    "# Type your answer here\n",
    "\n",
    "# Expected output: [[1, 4, 9], [1, 8, 27], [1, 16, 81]]"
   ]
  }
 ],
 "metadata": {
  "kernelspec": {
   "display_name": "Python 3",
   "language": "python",
   "name": "python3"
  },
  "language_info": {
   "codemirror_mode": {
    "name": "ipython",
    "version": 3
   },
   "file_extension": ".py",
   "mimetype": "text/x-python",
   "name": "python",
   "nbconvert_exporter": "python",
   "pygments_lexer": "ipython3",
   "version": "3.7.6"
  }
 },
 "nbformat": 4,
 "nbformat_minor": 4
}
