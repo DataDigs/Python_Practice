{
 "cells": [
  {
   "cell_type": "markdown",
   "metadata": {},
   "source": [
    "# Object oriented programming (OOP)"
   ]
  },
  {
   "cell_type": "markdown",
   "metadata": {},
   "source": [
    "https://medium.com/@LiliOuakninFelsen/functional-vs-object-oriented-vs-procedural-programming-a3d4585557f3\n",
    "\n",
    "Three programming pardigms:\n",
    "1. Functional Programming: treats everything in the code as a mathematical function\n",
    "2. Procedural Prograamming: treats the code as a set of instructions\n",
    "3. Object Oriented Programming: treats everything in the program as an object"
   ]
  },
  {
   "cell_type": "markdown",
   "metadata": {},
   "source": [
    "### What are objects?\n",
    "\n",
    "Think of some real-life objects around you: a dog, a clock, your shirt, your roommate. All objects can do things, and all objects can be described with adjectives. In the context of OOP in Python, everything is an object; functions, lists, dataframes, everything. Just like real life objects, these objects can be described with adjectives, or \"attributes\". These objects can do things, which in Python is called \"methods\". \n",
    "\n",
    "Let's look more closely at a real-world object example: a dog. \n",
    "\n",
    "*What are some attributes of a dog?*\n",
    "- size in inches\n",
    "- weight in pounds\n",
    "- type of bark: yip, bark, woof, howl\n",
    "\n",
    "*What methods can a dog do?*\n",
    "- bark\n",
    "- run\n",
    "- sleep\n",
    "\n",
    "Now let's think about an example in Python: the numpy array. https://numpy.org/doc/stable/reference/generated/numpy.ndarray.html\n",
    "\n",
    "*What are some attribues of a numpy array?*\n",
    "- size: How many elements are in the array\n",
    "- ndim: How many dimensions are in the array\n",
    "\n",
    "*What methods can you call on a numpy array?*\n",
    "- max(): Returns the max of the array\n",
    "- flatten(): compress the array into a single dimension"
   ]
  },
  {
   "cell_type": "code",
   "execution_count": 20,
   "metadata": {},
   "outputs": [
    {
     "name": "stdout",
     "output_type": "stream",
     "text": [
      "6\n",
      "['hi' 'hello' 'howdy' 'bye' 'see ya' 'later']\n"
     ]
    }
   ],
   "source": [
    "import numpy as np\n",
    "\n",
    "a = np.array([[\"hi\", \"hello\", \"howdy\"],[\"bye\", \"see ya\", \"later\"]])\n",
    "print(a.size)\n",
    "print(a.flatten())"
   ]
  },
  {
   "cell_type": "markdown",
   "metadata": {},
   "source": [
    "Attributes (such as a.size) are called without \"()\", where methods (like a.flatten()) require \"()\". You can think of methods like functions that call the object as thier first arguments. \n",
    "\n",
    "### Everything in Python is an object"
   ]
  }
 ],
 "metadata": {
  "kernelspec": {
   "display_name": "Python 3",
   "language": "python",
   "name": "python3"
  },
  "language_info": {
   "codemirror_mode": {
    "name": "ipython",
    "version": 3
   },
   "file_extension": ".py",
   "mimetype": "text/x-python",
   "name": "python",
   "nbconvert_exporter": "python",
   "pygments_lexer": "ipython3",
   "version": "3.7.6"
  }
 },
 "nbformat": 4,
 "nbformat_minor": 4
}
