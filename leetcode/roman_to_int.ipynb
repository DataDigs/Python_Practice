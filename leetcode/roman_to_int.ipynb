{
 "cells": [
  {
   "cell_type": "markdown",
   "metadata": {},
   "source": [
    "# Roman to Int\n",
    "\n",
    "Runtime: 44 ms (Faster than 83.18% of Python3 solutions)\n",
    "\n",
    "Memory Usage: 14 MB (Memory usage beats 99.62% of Python3 solutions)"
   ]
  },
  {
   "cell_type": "code",
   "execution_count": 59,
   "metadata": {},
   "outputs": [],
   "source": [
    "def romanToInt(s: str) -> int:\n",
    "    value = 0\n",
    "    val_dict = {\"I\":1, \"V\":5, \"X\":10, \"L\":50, \"C\":100, \"D\":500, \"M\":1000}\n",
    "    special_vals = {\"IV\":4, \"IX\":9, \"XL\":40, \"XC\":90, \"CD\":400, \"CM\":900}\n",
    "    \n",
    "    for i in range(len(s)-1):\n",
    "        if s[i] + s[i+1] in special_vals.keys():\n",
    "            value += special_vals[s[i] + s[i+1]]\n",
    "            value -= val_dict[s[i]]\n",
    "            value -= val_dict[s[i+1]]\n",
    "    \n",
    "    for c in s:\n",
    "        value += val_dict[c]\n",
    "    \n",
    "    return value"
   ]
  },
  {
   "cell_type": "code",
   "execution_count": 60,
   "metadata": {},
   "outputs": [
    {
     "data": {
      "text/plain": [
       "54"
      ]
     },
     "execution_count": 60,
     "metadata": {},
     "output_type": "execute_result"
    }
   ],
   "source": [
    "romanToInt(\"LIV\")"
   ]
  },
  {
   "cell_type": "code",
   "execution_count": null,
   "metadata": {},
   "outputs": [],
   "source": []
  }
 ],
 "metadata": {
  "kernelspec": {
   "display_name": "Python 3",
   "language": "python",
   "name": "python3"
  },
  "language_info": {
   "codemirror_mode": {
    "name": "ipython",
    "version": 3
   },
   "file_extension": ".py",
   "mimetype": "text/x-python",
   "name": "python",
   "nbconvert_exporter": "python",
   "pygments_lexer": "ipython3",
   "version": "3.7.6"
  }
 },
 "nbformat": 4,
 "nbformat_minor": 4
}
